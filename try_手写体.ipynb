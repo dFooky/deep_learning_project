{
 "cells": [
  {
   "cell_type": "code",
   "execution_count": 1,
   "id": "f49bc96d-f7ef-48e2-a878-f7cad014495f",
   "metadata": {},
   "outputs": [],
   "source": [
    "import tensorflow as tf \n",
    "mnist = tf.keras.datasets.mnist\n",
    "import matplotlib.pyplot as plt\n",
    "import numpy as np"
   ]
  },
  {
   "cell_type": "code",
   "execution_count": 2,
   "id": "1ed9d775-3804-46c1-8777-be28a47dd03e",
   "metadata": {},
   "outputs": [],
   "source": [
    "(train_image , train_lable),(test_image, test_lable)=mnist.load_data()"
   ]
  },
  {
   "cell_type": "code",
   "execution_count": 3,
   "id": "090e7fef-6645-4bf8-9317-467d39278bbb",
   "metadata": {},
   "outputs": [
    {
     "name": "stdout",
     "output_type": "stream",
     "text": [
      "(60000, 28, 28)\n",
      "(10000, 28, 28)\n"
     ]
    }
   ],
   "source": [
    "train_image=train_image / 255.0\n",
    "test_image=test_image /255.0\n",
    "\n",
    "\n",
    "print(train_image.shape)\n",
    "print(test_image.shape)"
   ]
  },
  {
   "cell_type": "code",
   "execution_count": 4,
   "id": "3635f2ee-1c3a-4c82-a961-06fa6101c297",
   "metadata": {
    "scrolled": true
   },
   "outputs": [
    {
     "data": {
      "image/png": "[encoded data removed]",
      "text/plain": [
       "<Figure size 640x480 with 2 Axes>"
      ]
     },
     "metadata": {},
     "output_type": "display_data"
    }
   ],
   "source": [
    "plt.imshow(test_image[0])\n",
    "plt.colorbar()\n",
    "plt.show()"
   ]
  },
  {
   "cell_type": "code",
   "execution_count": 5,
   "id": "591ce86b-7192-471a-abce-bd4ce7777ded",
   "metadata": {},
   "outputs": [],
   "source": [
    "model = tf.keras.models.Sequential([\n",
    "    \n",
    "    tf.keras.layers.Flatten(input_shape=(28,28)),\n",
    "      tf.keras.layers.Dense(64,activation = tf.nn.relu),\n",
    "   tf.keras.layers.Dense(128,activation = tf.nn.relu),\n",
    "    tf.keras.layers.Dense(256,activation = tf.nn.relu),\n",
    "    tf.keras.layers.Dense(10,activation = tf.nn.softmax)\n",
    "    \n",
    "])\n"
   ]
  },
  {
   "cell_type": "code",
   "execution_count": 6,
   "id": "0bdad81c-9331-42d3-b1be-45a563de07d6",
   "metadata": {},
   "outputs": [],
   "source": [
    "model.compile(\n",
    "    optimizer='adam',\n",
    "    loss ='sparse_categorical_crossentropy' ,\n",
    "    metrics=['accuracy']\n",
    ")\n"
   ]
  },
  {
   "cell_type": "code",
   "execution_count": 7,
   "id": "c1541f93-143e-4fae-bbe1-8c45374585ee",
   "metadata": {},
   "outputs": [
    {
     "name": "stdout",
     "output_type": "stream",
     "text": [
      "Epoch 1/10\n",
      "1875/1875 [==============================] - 9s 4ms/step - loss: 0.2450 - accuracy: 0.9268\n",
      "Epoch 2/10\n",
      "1875/1875 [==============================] - 8s 4ms/step - loss: 0.1112 - accuracy: 0.9657\n",
      "Epoch 3/10\n",
      "1875/1875 [==============================] - 9s 5ms/step - loss: 0.0839 - accuracy: 0.9739\n",
      "Epoch 4/10\n",
      "1875/1875 [==============================] - 9s 5ms/step - loss: 0.0665 - accuracy: 0.9793\n",
      "Epoch 5/10\n",
      "1875/1875 [==============================] - 9s 5ms/step - loss: 0.0548 - accuracy: 0.9824\n",
      "Epoch 6/10\n",
      "1875/1875 [==============================] - 8s 4ms/step - loss: 0.0491 - accuracy: 0.9841\n",
      "Epoch 7/10\n",
      "1875/1875 [==============================] - 8s 4ms/step - loss: 0.0418 - accuracy: 0.9866\n",
      "Epoch 8/10\n",
      "1875/1875 [==============================] - 9s 5ms/step - loss: 0.0351 - accuracy: 0.9887\n",
      "Epoch 9/10\n",
      "1875/1875 [==============================] - 8s 4ms/step - loss: 0.0318 - accuracy: 0.9896\n",
      "Epoch 10/10\n",
      "1875/1875 [==============================] - 8s 4ms/step - loss: 0.0299 - accuracy: 0.9906\n"
     ]
    },
    {
     "data": {
      "text/plain": [
       "<keras.callbacks.History at 0x1f99816eb20>"
      ]
     },
     "execution_count": 7,
     "metadata": {},
     "output_type": "execute_result"
    }
   ],
   "source": [
    "model.fit(train_image,train_lable,epochs=10)\n"
   ]
  },
  {
   "cell_type": "code",
   "execution_count": 9,
   "id": "e527601c-57ba-483c-a70e-5b5d5d1b99b3",
   "metadata": {},
   "outputs": [
    {
     "name": "stdout",
     "output_type": "stream",
     "text": [
      "313/313 [==============================] - 1s 4ms/step - loss: 0.1032 - accuracy: 0.9755\n"
     ]
    },
    {
     "data": {
      "text/plain": [
       "[0.1032465323805809, 0.9754999876022339]"
      ]
     },
     "execution_count": 9,
     "metadata": {},
     "output_type": "execute_result"
    }
   ],
   "source": [
    "\n",
    "model.evaluate(test_image,test_lable)"
   ]
  },
  {
   "cell_type": "code",
   "execution_count": 10,
   "id": "d0d55ce9-5829-4647-b1f6-1bafa407017d",
   "metadata": {},
   "outputs": [
    {
     "name": "stdout",
     "output_type": "stream",
     "text": [
      "313/313 [==============================] - 1s 2ms/step\n"
     ]
    },
    {
     "data": {
      "text/plain": [
       "1"
      ]
     },
     "execution_count": 10,
     "metadata": {},
     "output_type": "execute_result"
    }
   ],
   "source": [
    "classfication=model.predict(test_image)\n",
    "\n",
    "np.argmax(classfication[5])"
   ]
  },
  {
   "cell_type": "code",
   "execution_count": 11,
   "id": "7712cb9a-037d-4a42-aae5-d3b100c7768a",
   "metadata": {},
   "outputs": [
    {
     "name": "stdout",
     "output_type": "stream",
     "text": [
      "1\n"
     ]
    }
   ],
   "source": [
    "print(test_lable[5])\n"
   ]
  },
  {
   "cell_type": "code",
   "execution_count": 12,
   "id": "7d84a9c2-ab20-41db-9582-7b70e260add1",
   "metadata": {},
   "outputs": [],
   "source": [
    "from PIL import Image\n",
    "\n"
   ]
  },
  {
   "cell_type": "code",
   "execution_count": 13,
   "id": "c777aa36-64a9-468f-a555-cd472d1f2dfa",
   "metadata": {},
   "outputs": [
    {
     "name": "stdout",
     "output_type": "stream",
     "text": [
      "C:\\Users\\tkontlxx\n"
     ]
    }
   ],
   "source": [
    "import os\n",
    "print(os.getcwd()) "
   ]
  },
  {
   "cell_type": "code",
   "execution_count": 14,
   "id": "1b6fe784-a112-417d-9310-71b2fa5da0d0",
   "metadata": {},
   "outputs": [],
   "source": [
    "image=Image.open('my_picture.bmp')"
   ]
  },
  {
   "cell_type": "code",
   "execution_count": 15,
   "id": "fa8b34a3-1735-4e30-8130-d81f6b07578c",
   "metadata": {},
   "outputs": [
    {
     "data": {
      "image/png": "[encoded data removed]",
      "text/plain": [
       "<PIL.BmpImagePlugin.BmpImageFile image mode=P size=28x28>"
      ]
     },
     "execution_count": 15,
     "metadata": {},
     "output_type": "execute_result"
    }
   ],
   "source": [
    "image"
   ]
  },
  {
   "cell_type": "code",
   "execution_count": 16,
   "id": "7566d83b-1822-4b0b-9969-5db0d95ddf63",
   "metadata": {},
   "outputs": [],
   "source": [
    "images=np.array(image)\n"
   ]
  },
  {
   "cell_type": "code",
   "execution_count": 17,
   "id": "f735cb46-f138-4a53-8224-1dd42525fa2f",
   "metadata": {},
   "outputs": [],
   "source": [
    "images=images.reshape(1,28,28)\n"
   ]
  },
  {
   "cell_type": "code",
   "execution_count": 18,
   "id": "bfadd8e8-69b2-4e61-bfd1-4b34497ef683",
   "metadata": {},
   "outputs": [
    {
     "name": "stdout",
     "output_type": "stream",
     "text": [
      "1/1 [==============================] - 0s 86ms/step\n",
      "[[0. 0. 0. 0. 0. 1. 0. 0. 0. 0.]]\n"
     ]
    },
    {
     "data": {
      "text/plain": [
       "5"
      ]
     },
     "execution_count": 18,
     "metadata": {},
     "output_type": "execute_result"
    }
   ],
   "source": [
    "res=model.predict(images)\n",
    "print(res)\n",
    "np.argmax(res)\n"
   ]
  },
  {
   "cell_type": "code",
   "execution_count": null,
   "id": "86eeb7b8-c06b-4bd0-91ad-07e39eee8944",
   "metadata": {},
   "outputs": [],
   "source": []
  },
  {
   "cell_type": "code",
   "execution_count": null,
   "id": "64aecb66-9a21-4994-b9c8-ecd7207a4008",
   "metadata": {},
   "outputs": [],
   "source": []
  },
  {
   "cell_type": "code",
   "execution_count": null,
   "id": "e1846afb-a322-4626-9e21-f0ed0f1dc750",
   "metadata": {},
   "outputs": [],
   "source": []
  }
 ],
 "metadata": {
  "kernelspec": {
   "display_name": "TensorFlow-2.10-GPU",
   "language": "python",
   "name": "tf"
  },
  "language_info": {
   "codemirror_mode": {
    "name": "ipython",
    "version": 3
   },
   "file_extension": ".py",
   "mimetype": "text/x-python",
   "name": "python",
   "nbconvert_exporter": "python",
   "pygments_lexer": "ipython3",
   "version": "3.9.21"
  }
 },
 "nbformat": 4,
 "nbformat_minor": 5
}
