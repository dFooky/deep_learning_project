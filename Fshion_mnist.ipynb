{
 "cells": [
  {
   "cell_type": "code",
   "execution_count": 7,
   "id": "884df020-c8b2-475d-835c-24f57372a8e1",
   "metadata": {},
   "outputs": [],
   "source": [
    "import tensorflow as tf\n",
    "\n",
    "mnist=tf.keras.datasets.fashion_mnist  "
   ]
  },
  {
   "cell_type": "code",
   "execution_count": 2,
   "id": "92c620c6-a9b3-4d53-bf76-9ea48fd2cf61",
   "metadata": {},
   "outputs": [],
   "source": [
    "(trainling_image , trainling_lable),(test_image,test_lable)=mnist.load_data()\n"
   ]
  },
  {
   "cell_type": "code",
   "execution_count": 3,
   "id": "af4615f3-2e75-42cb-b766-371e875a44eb",
   "metadata": {},
   "outputs": [],
   "source": [
    "trainling_image=trainling_image / 255\n",
    "test_image = test_image / 255"
   ]
  },
  {
   "cell_type": "code",
   "execution_count": 10,
   "id": "f3ad931b-3c47-41ef-b2f5-36b00223b686",
   "metadata": {
    "scrolled": true
   },
   "outputs": [],
   "source": [
    "model = tf.keras.models.Sequential([\n",
    "    tf.keras.layers.Flatten(input_shape=(28,28)),\n",
    "   tf.keras.layers.Dense(128,activation = tf.nn.relu),\n",
    "    tf.keras.layers.Dense(10,activation = tf.nn.softmax)\n",
    "    \n",
    "])\n"
   ]
  },
  {
   "cell_type": "code",
   "execution_count": 11,
   "id": "93de4435-1a8a-41f3-bfdf-987d7e40db92",
   "metadata": {},
   "outputs": [],
   "source": [
    "model.compile(\n",
    "    optimizer='adam',\n",
    "    loss ='sparse_categorical_crossentropy' ,\n",
    "    metrics=['accuracy']\n",
    ")"
   ]
  },
  {
   "cell_type": "code",
   "execution_count": 15,
   "id": "42a6c4ea-f1a2-48e4-8a61-d35a56611b34",
   "metadata": {},
   "outputs": [
    {
     "name": "stdout",
     "output_type": "stream",
     "text": [
      "Epoch 1/8\n",
      "1875/1875 [==============================] - 6s 3ms/step - loss: 0.2685 - accuracy: 0.9007\n",
      "Epoch 2/8\n",
      "1875/1875 [==============================] - 6s 3ms/step - loss: 0.2594 - accuracy: 0.9048\n",
      "Epoch 3/8\n",
      "1875/1875 [==============================] - 6s 3ms/step - loss: 0.2471 - accuracy: 0.9078\n",
      "Epoch 4/8\n",
      "1875/1875 [==============================] - 6s 3ms/step - loss: 0.2399 - accuracy: 0.9101\n",
      "Epoch 5/8\n",
      "1875/1875 [==============================] - 6s 3ms/step - loss: 0.2336 - accuracy: 0.9124\n",
      "Epoch 6/8\n",
      "1875/1875 [==============================] - 6s 3ms/step - loss: 0.2245 - accuracy: 0.9170\n",
      "Epoch 7/8\n",
      "1875/1875 [==============================] - 6s 3ms/step - loss: 0.2191 - accuracy: 0.9178\n",
      "Epoch 8/8\n",
      "1875/1875 [==============================] - 6s 3ms/step - loss: 0.2115 - accuracy: 0.9202\n"
     ]
    },
    {
     "data": {
      "text/plain": [
       "<keras.callbacks.History at 0x236e3534400>"
      ]
     },
     "execution_count": 15,
     "metadata": {},
     "output_type": "execute_result"
    }
   ],
   "source": [
    "model.fit(trainling_image,trainling_lable,epochs=8)"
   ]
  },
  {
   "cell_type": "code",
   "execution_count": 16,
   "id": "32e0705a-94f7-4f29-a395-7b49928e1288",
   "metadata": {},
   "outputs": [
    {
     "name": "stdout",
     "output_type": "stream",
     "text": [
      "313/313 [==============================] - 1s 3ms/step - loss: 0.3298 - accuracy: 0.8873\n"
     ]
    },
    {
     "data": {
      "text/plain": [
       "[0.32977378368377686, 0.8873000144958496]"
      ]
     },
     "execution_count": 16,
     "metadata": {},
     "output_type": "execute_result"
    }
   ],
   "source": [
    "model.evaluate(test_image,test_lable)"
   ]
  },
  {
   "cell_type": "code",
   "execution_count": 17,
   "id": "0f546516-4a7b-4913-9a18-6c8e3b6ff61a",
   "metadata": {},
   "outputs": [
    {
     "name": "stdout",
     "output_type": "stream",
     "text": [
      "313/313 [==============================] - 1s 2ms/step\n",
      "[3.5199603e-09 2.3447944e-09 3.0213246e-10 3.1447384e-10 2.7165964e-10\n",
      " 2.4527783e-04 3.8375108e-09 8.1451293e-03 3.0443199e-09 9.9160963e-01]\n",
      "9\n"
     ]
    }
   ],
   "source": [
    "classfication = model.predict(test_image)\n",
    "print(classfication[0])\n",
    "print(test_lable[0])"
   ]
  },
  {
   "cell_type": "code",
   "execution_count": null,
   "id": "16e2fc28-2b8a-4bf7-981d-48581c9ffe75",
   "metadata": {},
   "outputs": [],
   "source": []
  }
 ],
 "metadata": {
  "kernelspec": {
   "display_name": "TensorFlow-2.10-GPU",
   "language": "python",
   "name": "tf"
  },
  "language_info": {
   "codemirror_mode": {
    "name": "ipython",
    "version": 3
   },
   "file_extension": ".py",
   "mimetype": "text/x-python",
   "name": "python",
   "nbconvert_exporter": "python",
   "pygments_lexer": "ipython3",
   "version": "3.9.21"
  }
 },
 "nbformat": 4,
 "nbformat_minor": 5
}
