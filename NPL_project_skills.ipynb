{
 "cells": [
  {
   "cell_type": "code",
   "execution_count": 1,
   "id": "b50c0eb9-0c54-48b4-ba89-c0c913a828aa",
   "metadata": {},
   "outputs": [],
   "source": [
    "import tensorflow as tf\n",
    "from tensorflow import keras \n",
    "from tensorflow.keras.preprocessing.text import Tokenizer"
   ]
  },
  {
   "cell_type": "code",
   "execution_count": 2,
   "id": "2b460445-8314-4d92-be42-6560f88911c7",
   "metadata": {},
   "outputs": [],
   "source": [
    "sentence=[\n",
    "    'Today is a sunny day',\n",
    "    'Today is a rainy day',\n",
    "    'Is it sunny today?',\n",
    "    'I really enjoyed walking in the snow today'\n",
    "]"
   ]
  },
  {
   "cell_type": "code",
   "execution_count": 3,
   "id": "7de16c36-f90c-4721-afd8-cf77f6bcd459",
   "metadata": {},
   "outputs": [],
   "source": [
    "tokenizer=Tokenizer(num_words=100)"
   ]
  },
  {
   "cell_type": "code",
   "execution_count": 4,
   "id": "11b6e77c-f45b-4f17-b932-4722697cc7c6",
   "metadata": {},
   "outputs": [],
   "source": [
    "tokenizer.fit_on_texts(sentence)"
   ]
  },
  {
   "cell_type": "code",
   "execution_count": 5,
   "id": "ade74ea8-6165-455f-bb87-1397b3e1d253",
   "metadata": {},
   "outputs": [
    {
     "name": "stdout",
     "output_type": "stream",
     "text": [
      "{'today': 1, 'is': 2, 'a': 3, 'sunny': 4, 'day': 5, 'rainy': 6, 'it': 7, 'i': 8, 'really': 9, 'enjoyed': 10, 'walking': 11, 'in': 12, 'the': 13, 'snow': 14}\n"
     ]
    }
   ],
   "source": [
    "word_index=tokenizer.word_index\n",
    "print(word_index)"
   ]
  },
  {
   "cell_type": "code",
   "execution_count": 6,
   "id": "3f1f9e79-d380-4288-a8b7-687e2c07b63b",
   "metadata": {},
   "outputs": [
    {
     "name": "stdout",
     "output_type": "stream",
     "text": [
      "[[1, 2, 3, 4, 5], [1, 2, 3, 6, 5], [2, 7, 4, 1], [8, 9, 10, 11, 12, 13, 14, 1]]\n"
     ]
    }
   ],
   "source": [
    "sequence=tokenizer.texts_to_sequences(sentence)\n",
    "print(sequence)"
   ]
  },
  {
   "cell_type": "code",
   "execution_count": 7,
   "id": "65f49562-d7c9-4d0b-a647-b87cc407ecf3",
   "metadata": {},
   "outputs": [],
   "source": [
    "test_data=[\n",
    "    'Today is a snowy day',\n",
    "    'Will it be rainy tomorrow?'\n",
    "]"
   ]
  },
  {
   "cell_type": "code",
   "execution_count": 8,
   "id": "a1f655fa-0664-4619-94b2-39f2699d022e",
   "metadata": {},
   "outputs": [
    {
     "name": "stdout",
     "output_type": "stream",
     "text": [
      "[[1, 2, 3, 5], [7, 6]]\n"
     ]
    }
   ],
   "source": [
    "test_sequence=tokenizer.texts_to_sequences(test_data)\n",
    "print(test_sequence)"
   ]
  },
  {
   "cell_type": "code",
   "execution_count": 9,
   "id": "41ea6a2d-a634-4b77-9cda-87db3df19009",
   "metadata": {},
   "outputs": [
    {
     "name": "stdout",
     "output_type": "stream",
     "text": [
      "{'<OOV>': 1, 'today': 2, 'is': 3, 'a': 4, 'sunny': 5, 'day': 6, 'rainy': 7, 'it': 8, 'i': 9, 'really': 10, 'enjoyed': 11, 'walking': 12, 'in': 13, 'the': 14, 'snow': 15}\n"
     ]
    }
   ],
   "source": [
    "tokenizer_oov=Tokenizer(num_words=100,oov_token='<OOV>')\n",
    "tokenizer_oov.fit_on_texts(sentence)\n",
    "word_index=tokenizer_oov.word_index\n",
    "print(word_index)"
   ]
  },
  {
   "cell_type": "code",
   "execution_count": 10,
   "id": "e8c63cff-18ef-4cce-9ec6-4e7e4d21e70e",
   "metadata": {},
   "outputs": [
    {
     "name": "stdout",
     "output_type": "stream",
     "text": [
      "[[2, 3, 4, 1, 6], [1, 8, 1, 7, 1]]\n"
     ]
    }
   ],
   "source": [
    "test_oov_sequence=tokenizer_oov.texts_to_sequences(test_data)\n",
    "print(test_oov_sequence)"
   ]
  },
  {
   "cell_type": "code",
   "execution_count": 11,
   "id": "b81c1804-f462-4e15-b6b5-4fd6f8989fa1",
   "metadata": {},
   "outputs": [],
   "source": [
    "from tensorflow.keras.preprocessing.sequence import pad_sequences"
   ]
  },
  {
   "cell_type": "code",
   "execution_count": 12,
   "id": "ac68cc8e-9c9d-4ddb-875b-778338570980",
   "metadata": {},
   "outputs": [
    {
     "name": "stdout",
     "output_type": "stream",
     "text": [
      "[[1, 2, 3, 4, 5], [1, 2, 3, 6, 5], [2, 7, 4, 1], [8, 9, 10, 11, 12, 13, 14, 1]]\n"
     ]
    }
   ],
   "source": [
    "print(sequence)"
   ]
  },
  {
   "cell_type": "code",
   "execution_count": 13,
   "id": "921dc8e7-9d8f-48a1-8ed1-10a2f4e94d1e",
   "metadata": {},
   "outputs": [
    {
     "name": "stdout",
     "output_type": "stream",
     "text": [
      "[[ 0  0  0  1  2  3  4  5]\n",
      " [ 0  0  0  1  2  3  6  5]\n",
      " [ 0  0  0  0  2  7  4  1]\n",
      " [ 8  9 10 11 12 13 14  1]]\n"
     ]
    }
   ],
   "source": [
    "pad=pad_sequences(sequence)\n",
    "print(pad)"
   ]
  },
  {
   "cell_type": "code",
   "execution_count": 14,
   "id": "61eac0e2-a9af-40e9-8168-d27da4073153",
   "metadata": {},
   "outputs": [
    {
     "name": "stdout",
     "output_type": "stream",
     "text": [
      "[[ 1  2  3  4  5  0]\n",
      " [ 1  2  3  6  5  0]\n",
      " [ 2  7  4  1  0  0]\n",
      " [10 11 12 13 14  1]]\n"
     ]
    }
   ],
   "source": [
    "pad_p=pad_sequences(sequence,padding='post',maxlen=6)\n",
    "print(pad_p)"
   ]
  },
  {
   "cell_type": "code",
   "execution_count": 15,
   "id": "3d6eb2db-5864-4a5d-bd06-d7d418ef9b39",
   "metadata": {},
   "outputs": [],
   "source": [
    "from bs4 import BeautifulSoup\n",
    "import string\n",
    "\n",
    "stopwords = [\"a\", \"about\", \"above\", \"after\", \"again\", \"against\", \"all\", \"am\", \"an\", \"and\", \"any\", \"are\", \"as\", \"at\",\n",
    "             \"be\", \"because\", \"been\", \"before\", \"being\", \"below\", \"between\", \"both\", \"but\", \"by\", \"could\", \"did\", \"do\",\n",
    "             \"does\", \"doing\", \"down\", \"during\", \"each\", \"few\", \"for\", \"from\", \"further\", \"had\", \"has\", \"have\", \"having\",\n",
    "             \"he\", \"hed\", \"hes\", \"her\", \"here\", \"heres\", \"hers\", \"herself\", \"him\", \"himself\", \"his\", \"how\",\n",
    "             \"hows\", \"i\", \"id\", \"ill\", \"im\", \"ive\", \"if\", \"in\", \"into\", \"is\", \"it\", \"its\", \"itself\",\n",
    "             \"lets\", \"me\", \"more\", \"most\", \"my\", \"myself\", \"nor\", \"of\", \"on\", \"once\", \"only\", \"or\", \"other\", \"ought\",\n",
    "             \"our\", \"ours\", \"ourselves\", \"out\", \"over\", \"own\", \"same\", \"she\", \"shed\", \"shell\", \"shes\", \"should\",\n",
    "             \"so\", \"some\", \"such\", \"than\", \"that\", \"thats\", \"the\", \"their\", \"theirs\", \"them\", \"themselves\", \"then\",\n",
    "             \"there\", \"theres\", \"these\", \"they\", \"theyd\", \"theyll\", \"theyre\", \"theyve\", \"this\", \"those\", \"through\",\n",
    "             \"to\", \"too\", \"under\", \"until\", \"up\", \"very\", \"was\", \"we\", \"wed\", \"well\", \"were\", \"weve\", \"were\",\n",
    "             \"what\", \"whats\", \"when\", \"whens\", \"where\", \"wheres\", \"which\", \"while\", \"who\", \"whos\", \"whom\", \"why\",\n",
    "             \"whys\", \"with\", \"would\", \"you\", \"youd\", \"youll\", \"youre\", \"youve\", \"your\", \"yours\", \"yourself\",\n",
    "             \"yourselves\"]\n"
   ]
  },
  {
   "cell_type": "code",
   "execution_count": 16,
   "id": "2ec5abf2-d1d3-437f-a6d3-0fac50c21859",
   "metadata": {},
   "outputs": [
    {
     "name": "stdout",
     "output_type": "stream",
     "text": [
      "['Today is a sunny day', 'Today is a rainy day', 'Is it sunny today?', 'I really enjoyed walking in the snow today', 'That not kill us makes us stronger. ']\n"
     ]
    }
   ],
   "source": [
    "sentence_a=' That which does not kill us makes us stronger.'\n",
    "words =sentence_a.split()\n",
    "filtered_sentence=''\n",
    "for word in words:\n",
    "    if word not in stopwords:\n",
    "        filtered_sentence=filtered_sentence+word+' '\n",
    "sentence.append(filtered_sentence)\n",
    "\n",
    "print(sentence)"
   ]
  },
  {
   "cell_type": "code",
   "execution_count": 20,
   "id": "66ef4bac-a9ea-46b3-9a01-2dd127127f7f",
   "metadata": {},
   "outputs": [
    {
     "name": "stdout",
     "output_type": "stream",
     "text": [
      "['Today is a sunny day', 'Today is a rainy day', 'Is it sunny today?', 'I really enjoyed walking in the snow today', 'That not kill us makes us stronger. ', 'The individual always struggle keep overwhelmed tribe. If try it, will lonely often, sometimes frightened. But no price high pay privilege owning yourself. ', 'The individual always struggle keep overwhelmed tribe. If try it, will lonely often, sometimes frightened. But no price high pay privilege owning yourself. ']\n"
     ]
    }
   ],
   "source": [
    "import string\n",
    "sentence_b='''The individual has always had to struggle to keep from being overwhelmed by the tribe. \n",
    "If you try it, you will be lonely often, and sometimes frightened. But no price is too high to pay for the privilege of owning yourself.'''\n",
    "tabel=str.maketrans('','',string.punctuation)\n",
    "words=sentence_b.split()\n",
    "filtered_sentence_b=''\n",
    "for word in words:\n",
    "    if word not in stopwords:\n",
    "        filtered_sentence_b=filtered_sentence_b+word+' '\n",
    "sentence.append(filtered_sentence_b)\n",
    "print(sentence)\n",
    "        \n",
    "\n"
   ]
  },
  {
   "cell_type": "code",
   "execution_count": null,
   "id": "ed58eb2b-5990-4dc2-be81-70a6ca50886f",
   "metadata": {},
   "outputs": [],
   "source": [
    "\n"
   ]
  }
 ],
 "metadata": {
  "kernelspec": {
   "display_name": "TensorFlow GPU",
   "language": "python",
   "name": "tf"
  },
  "language_info": {
   "codemirror_mode": {
    "name": "ipython",
    "version": 3
   },
   "file_extension": ".py",
   "mimetype": "text/x-python",
   "name": "python",
   "nbconvert_exporter": "python",
   "pygments_lexer": "ipython3",
   "version": "3.9.21"
  }
 },
 "nbformat": 4,
 "nbformat_minor": 5
}
