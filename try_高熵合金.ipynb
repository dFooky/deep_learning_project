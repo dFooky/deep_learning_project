{
 "cells": [
  {
   "cell_type": "code",
   "execution_count": 1,
   "id": "f71eef44-91e7-40d7-a226-cf1afe60d6ad",
   "metadata": {},
   "outputs": [],
   "source": [
    "import tensorflow as tf\n",
    "import pandas as pd\n",
    "import numpy as np"
   ]
  },
  {
   "cell_type": "code",
   "execution_count": 2,
   "id": "f9cfe0b0-0fd1-4602-b516-78da9c21915f",
   "metadata": {},
   "outputs": [
    {
     "data": {
      "text/html": [
       "<div>\n",
       "<style scoped>\n",
       "    .dataframe tbody tr th:only-of-type {\n",
       "        vertical-align: middle;\n",
       "    }\n",
       "\n",
       "    .dataframe tbody tr th {\n",
       "        vertical-align: top;\n",
       "    }\n",
       "\n",
       "    .dataframe thead th {\n",
       "        text-align: right;\n",
       "    }\n",
       "</style>\n",
       "<table border=\"1\" class=\"dataframe\">\n",
       "  <thead>\n",
       "    <tr style=\"text-align: right;\">\n",
       "      <th></th>\n",
       "      <th>Unnamed: 0</th>\n",
       "      <th>Initial Comp.</th>\n",
       "      <th>Unnamed: 2</th>\n",
       "      <th>Unnamed: 3</th>\n",
       "      <th>Unnamed: 4</th>\n",
       "      <th>Unnamed: 5</th>\n",
       "      <th>Unnamed: 6</th>\n",
       "      <th>MC/MD comp.</th>\n",
       "      <th>Unnamed: 8</th>\n",
       "      <th>Unnamed: 9</th>\n",
       "      <th>Unnamed: 10</th>\n",
       "      <th>Unnamed: 11</th>\n",
       "      <th>MC/MD adsorption</th>\n",
       "      <th>Unnamed: 13</th>\n",
       "      <th>Unnamed: 14</th>\n",
       "      <th>Unnamed: 15</th>\n",
       "      <th>Unnamed: 16</th>\n",
       "      <th>Disorder</th>\n",
       "    </tr>\n",
       "  </thead>\n",
       "  <tbody>\n",
       "    <tr>\n",
       "      <th>0</th>\n",
       "      <td>#</td>\n",
       "      <td>Co</td>\n",
       "      <td>Ni</td>\n",
       "      <td>Cr</td>\n",
       "      <td>Fe</td>\n",
       "      <td>Mn</td>\n",
       "      <td>Temp</td>\n",
       "      <td>Co</td>\n",
       "      <td>Ni</td>\n",
       "      <td>Cr</td>\n",
       "      <td>Fe</td>\n",
       "      <td>Mn</td>\n",
       "      <td>Co</td>\n",
       "      <td>Ni</td>\n",
       "      <td>Cr</td>\n",
       "      <td>Fe</td>\n",
       "      <td>Mn</td>\n",
       "      <td>NaN</td>\n",
       "    </tr>\n",
       "    <tr>\n",
       "      <th>1</th>\n",
       "      <td>1</td>\n",
       "      <td>0.2</td>\n",
       "      <td>0.2</td>\n",
       "      <td>0.2</td>\n",
       "      <td>0.2</td>\n",
       "      <td>0.2</td>\n",
       "      <td>1000</td>\n",
       "      <td>0.2247044</td>\n",
       "      <td>0.2085728</td>\n",
       "      <td>0.154564</td>\n",
       "      <td>0.2297946</td>\n",
       "      <td>0.1823642</td>\n",
       "      <td>-0.09912302</td>\n",
       "      <td>-0.03545</td>\n",
       "      <td>0.186016</td>\n",
       "      <td>-0.1213136</td>\n",
       "      <td>0.0698699</td>\n",
       "      <td>0.431388</td>\n",
       "    </tr>\n",
       "    <tr>\n",
       "      <th>2</th>\n",
       "      <td>NaN</td>\n",
       "      <td>NaN</td>\n",
       "      <td>NaN</td>\n",
       "      <td>NaN</td>\n",
       "      <td>NaN</td>\n",
       "      <td>NaN</td>\n",
       "      <td>1100</td>\n",
       "      <td>0.217591</td>\n",
       "      <td>0.2077098</td>\n",
       "      <td>0.1684746</td>\n",
       "      <td>0.2217738</td>\n",
       "      <td>0.184451</td>\n",
       "      <td>-0.06130286</td>\n",
       "      <td>-0.02599</td>\n",
       "      <td>0.118474</td>\n",
       "      <td>-0.08839772</td>\n",
       "      <td>0.05721482</td>\n",
       "      <td>0.401656</td>\n",
       "    </tr>\n",
       "    <tr>\n",
       "      <th>3</th>\n",
       "      <td>NaN</td>\n",
       "      <td>NaN</td>\n",
       "      <td>NaN</td>\n",
       "      <td>NaN</td>\n",
       "      <td>NaN</td>\n",
       "      <td>NaN</td>\n",
       "      <td>1200</td>\n",
       "      <td>0.2082402</td>\n",
       "      <td>0.2086334</td>\n",
       "      <td>0.1814516</td>\n",
       "      <td>0.2141788</td>\n",
       "      <td>0.1874958</td>\n",
       "      <td>-0.03034456</td>\n",
       "      <td>-0.03521</td>\n",
       "      <td>0.07350504</td>\n",
       "      <td>-0.0554934</td>\n",
       "      <td>0.04754542</td>\n",
       "      <td>0.452747</td>\n",
       "    </tr>\n",
       "    <tr>\n",
       "      <th>4</th>\n",
       "      <td>NaN</td>\n",
       "      <td>NaN</td>\n",
       "      <td>NaN</td>\n",
       "      <td>NaN</td>\n",
       "      <td>NaN</td>\n",
       "      <td>NaN</td>\n",
       "      <td>1300</td>\n",
       "      <td>0.2068824</td>\n",
       "      <td>0.2104858</td>\n",
       "      <td>0.1822802</td>\n",
       "      <td>0.2127374</td>\n",
       "      <td>0.187614</td>\n",
       "      <td>-0.0275058</td>\n",
       "      <td>-0.04146</td>\n",
       "      <td>0.07652364</td>\n",
       "      <td>-0.05511442</td>\n",
       "      <td>0.04755238</td>\n",
       "      <td>0.486990</td>\n",
       "    </tr>\n",
       "    <tr>\n",
       "      <th>...</th>\n",
       "      <td>...</td>\n",
       "      <td>...</td>\n",
       "      <td>...</td>\n",
       "      <td>...</td>\n",
       "      <td>...</td>\n",
       "      <td>...</td>\n",
       "      <td>...</td>\n",
       "      <td>...</td>\n",
       "      <td>...</td>\n",
       "      <td>...</td>\n",
       "      <td>...</td>\n",
       "      <td>...</td>\n",
       "      <td>...</td>\n",
       "      <td>...</td>\n",
       "      <td>...</td>\n",
       "      <td>...</td>\n",
       "      <td>...</td>\n",
       "      <td>...</td>\n",
       "    </tr>\n",
       "    <tr>\n",
       "      <th>1036</th>\n",
       "      <td>NaN</td>\n",
       "      <td>NaN</td>\n",
       "      <td>NaN</td>\n",
       "      <td>NaN</td>\n",
       "      <td>NaN</td>\n",
       "      <td>NaN</td>\n",
       "      <td>1300</td>\n",
       "      <td>NaN</td>\n",
       "      <td>NaN</td>\n",
       "      <td>NaN</td>\n",
       "      <td>NaN</td>\n",
       "      <td>NaN</td>\n",
       "      <td>NaN</td>\n",
       "      <td>NaN</td>\n",
       "      <td>NaN</td>\n",
       "      <td>NaN</td>\n",
       "      <td>NaN</td>\n",
       "      <td>NaN</td>\n",
       "    </tr>\n",
       "    <tr>\n",
       "      <th>1037</th>\n",
       "      <td>NaN</td>\n",
       "      <td>NaN</td>\n",
       "      <td>NaN</td>\n",
       "      <td>NaN</td>\n",
       "      <td>NaN</td>\n",
       "      <td>NaN</td>\n",
       "      <td>NaN</td>\n",
       "      <td>NaN</td>\n",
       "      <td>NaN</td>\n",
       "      <td>NaN</td>\n",
       "      <td>NaN</td>\n",
       "      <td>NaN</td>\n",
       "      <td>NaN</td>\n",
       "      <td>NaN</td>\n",
       "      <td>NaN</td>\n",
       "      <td>NaN</td>\n",
       "      <td>NaN</td>\n",
       "      <td>NaN</td>\n",
       "    </tr>\n",
       "    <tr>\n",
       "      <th>1038</th>\n",
       "      <td>NaN</td>\n",
       "      <td>NaN</td>\n",
       "      <td>NaN</td>\n",
       "      <td>NaN</td>\n",
       "      <td>NaN</td>\n",
       "      <td>NaN</td>\n",
       "      <td>NaN</td>\n",
       "      <td>NaN</td>\n",
       "      <td>NaN</td>\n",
       "      <td>NaN</td>\n",
       "      <td>NaN</td>\n",
       "      <td>NaN</td>\n",
       "      <td>0.043533848</td>\n",
       "      <td>0.00238</td>\n",
       "      <td>0.882206</td>\n",
       "      <td>0.04182214</td>\n",
       "      <td>0.151242</td>\n",
       "      <td>0.560676</td>\n",
       "    </tr>\n",
       "    <tr>\n",
       "      <th>1039</th>\n",
       "      <td>NaN</td>\n",
       "      <td>NaN</td>\n",
       "      <td>NaN</td>\n",
       "      <td>NaN</td>\n",
       "      <td>NaN</td>\n",
       "      <td>NaN</td>\n",
       "      <td>NaN</td>\n",
       "      <td>NaN</td>\n",
       "      <td>NaN</td>\n",
       "      <td>NaN</td>\n",
       "      <td>NaN</td>\n",
       "      <td>NaN</td>\n",
       "      <td>-0.4518506</td>\n",
       "      <td>-0.06853</td>\n",
       "      <td>-0.04796636</td>\n",
       "      <td>-0.599131</td>\n",
       "      <td>0.006542308</td>\n",
       "      <td>0.358899</td>\n",
       "    </tr>\n",
       "    <tr>\n",
       "      <th>1040</th>\n",
       "      <td>NaN</td>\n",
       "      <td>NaN</td>\n",
       "      <td>NaN</td>\n",
       "      <td>NaN</td>\n",
       "      <td>NaN</td>\n",
       "      <td>NaN</td>\n",
       "      <td>NaN</td>\n",
       "      <td>NaN</td>\n",
       "      <td>NaN</td>\n",
       "      <td>NaN</td>\n",
       "      <td>NaN</td>\n",
       "      <td>NaN</td>\n",
       "      <td>Co</td>\n",
       "      <td>Ni</td>\n",
       "      <td>Cr</td>\n",
       "      <td>Fe</td>\n",
       "      <td>Mn</td>\n",
       "      <td>NaN</td>\n",
       "    </tr>\n",
       "  </tbody>\n",
       "</table>\n",
       "<p>1041 rows × 18 columns</p>\n",
       "</div>"
      ],
      "text/plain": [
       "     Unnamed: 0 Initial Comp. Unnamed: 2 Unnamed: 3 Unnamed: 4 Unnamed: 5  \\\n",
       "0             #            Co         Ni         Cr         Fe         Mn   \n",
       "1             1           0.2        0.2        0.2        0.2        0.2   \n",
       "2           NaN           NaN        NaN        NaN        NaN        NaN   \n",
       "3           NaN           NaN        NaN        NaN        NaN        NaN   \n",
       "4           NaN           NaN        NaN        NaN        NaN        NaN   \n",
       "...         ...           ...        ...        ...        ...        ...   \n",
       "1036        NaN           NaN        NaN        NaN        NaN        NaN   \n",
       "1037        NaN           NaN        NaN        NaN        NaN        NaN   \n",
       "1038        NaN           NaN        NaN        NaN        NaN        NaN   \n",
       "1039        NaN           NaN        NaN        NaN        NaN        NaN   \n",
       "1040        NaN           NaN        NaN        NaN        NaN        NaN   \n",
       "\n",
       "     Unnamed: 6 MC/MD comp. Unnamed: 8 Unnamed: 9 Unnamed: 10 Unnamed: 11  \\\n",
       "0          Temp          Co         Ni         Cr          Fe          Mn   \n",
       "1          1000   0.2247044  0.2085728   0.154564   0.2297946   0.1823642   \n",
       "2          1100    0.217591  0.2077098  0.1684746   0.2217738    0.184451   \n",
       "3          1200   0.2082402  0.2086334  0.1814516   0.2141788   0.1874958   \n",
       "4          1300   0.2068824  0.2104858  0.1822802   0.2127374    0.187614   \n",
       "...         ...         ...        ...        ...         ...         ...   \n",
       "1036       1300         NaN        NaN        NaN         NaN         NaN   \n",
       "1037        NaN         NaN        NaN        NaN         NaN         NaN   \n",
       "1038        NaN         NaN        NaN        NaN         NaN         NaN   \n",
       "1039        NaN         NaN        NaN        NaN         NaN         NaN   \n",
       "1040        NaN         NaN        NaN        NaN         NaN         NaN   \n",
       "\n",
       "     MC/MD adsorption Unnamed: 13  Unnamed: 14  Unnamed: 15  Unnamed: 16  \\\n",
       "0                  Co          Ni           Cr           Fe           Mn   \n",
       "1         -0.09912302    -0.03545     0.186016   -0.1213136    0.0698699   \n",
       "2         -0.06130286    -0.02599     0.118474  -0.08839772   0.05721482   \n",
       "3         -0.03034456    -0.03521   0.07350504   -0.0554934   0.04754542   \n",
       "4          -0.0275058    -0.04146   0.07652364  -0.05511442   0.04755238   \n",
       "...               ...         ...          ...          ...          ...   \n",
       "1036              NaN         NaN          NaN          NaN          NaN   \n",
       "1037              NaN         NaN          NaN          NaN          NaN   \n",
       "1038      0.043533848     0.00238     0.882206   0.04182214     0.151242   \n",
       "1039       -0.4518506    -0.06853  -0.04796636    -0.599131  0.006542308   \n",
       "1040               Co          Ni           Cr           Fe           Mn   \n",
       "\n",
       "      Disorder  \n",
       "0          NaN  \n",
       "1     0.431388  \n",
       "2     0.401656  \n",
       "3     0.452747  \n",
       "4     0.486990  \n",
       "...        ...  \n",
       "1036       NaN  \n",
       "1037       NaN  \n",
       "1038  0.560676  \n",
       "1039  0.358899  \n",
       "1040       NaN  \n",
       "\n",
       "[1041 rows x 18 columns]"
      ]
     },
     "execution_count": 2,
     "metadata": {},
     "output_type": "execute_result"
    }
   ],
   "source": [
    "pd.read_csv('HEA.csv')"
   ]
  },
  {
   "cell_type": "code",
   "execution_count": 3,
   "id": "6b7d9866-b9ca-40ac-afd2-ebde008fa993",
   "metadata": {},
   "outputs": [
    {
     "name": "stdout",
     "output_type": "stream",
     "text": [
      "        Temp      Co.1      Ni.1      Cr.1      Fe.1      Mn.1          Cr.2\n",
      "0     1000.0  0.224704  0.208573  0.154564  0.229795  0.182364      0.186016\n",
      "1     1100.0  0.217591  0.207710  0.168475  0.221774  0.184451      0.118474\n",
      "2     1200.0  0.208240  0.208633  0.181452  0.214179  0.187496    0.07350504\n",
      "3     1300.0  0.206882  0.210486  0.182280  0.212737  0.187614    0.07652364\n",
      "4     1000.0  0.168400  0.258627  0.160792  0.229293  0.182889     0.1428156\n",
      "...      ...       ...       ...       ...       ...       ...           ...\n",
      "1027  1300.0  0.401236  0.106143  0.289865  0.117997  0.084759     0.3029834\n",
      "1028  1000.0  0.347406  0.363450  0.100015  0.095601  0.093529  -0.002518298\n",
      "1029  1100.0  0.344201  0.363438  0.102431  0.096211  0.093719  -0.009082314\n",
      "1030  1200.0  0.349387  0.361459  0.099244  0.096223  0.093687   0.005851341\n",
      "1031  1300.0  0.345725  0.364544  0.100106  0.095935  0.093691  -0.005243208\n",
      "\n",
      "[1032 rows x 7 columns]\n"
     ]
    }
   ],
   "source": [
    "df=pd.read_csv('HEA.csv',header=1).iloc[:-8,[6,7,8,9,10,11,-4]]\n",
    "print(df)"
   ]
  },
  {
   "cell_type": "code",
   "execution_count": 4,
   "id": "9363e17a-da61-4ebe-ae14-f8c2b136c4e8",
   "metadata": {},
   "outputs": [],
   "source": [
    "df.columns=('Temp','Co','Ni','Cr','Fe','Mn','Cr_ad')"
   ]
  },
  {
   "cell_type": "code",
   "execution_count": 5,
   "id": "af4c4b53-d035-4517-85ba-2470babf4de3",
   "metadata": {},
   "outputs": [
    {
     "name": "stdout",
     "output_type": "stream",
     "text": [
      "        Temp        Co        Ni        Cr        Fe        Mn         Cr_ad\n",
      "0     1000.0  0.224704  0.208573  0.154564  0.229795  0.182364      0.186016\n",
      "1     1100.0  0.217591  0.207710  0.168475  0.221774  0.184451      0.118474\n",
      "2     1200.0  0.208240  0.208633  0.181452  0.214179  0.187496    0.07350504\n",
      "3     1300.0  0.206882  0.210486  0.182280  0.212737  0.187614    0.07652364\n",
      "4     1000.0  0.168400  0.258627  0.160792  0.229293  0.182889     0.1428156\n",
      "...      ...       ...       ...       ...       ...       ...           ...\n",
      "1027  1300.0  0.401236  0.106143  0.289865  0.117997  0.084759     0.3029834\n",
      "1028  1000.0  0.347406  0.363450  0.100015  0.095601  0.093529  -0.002518298\n",
      "1029  1100.0  0.344201  0.363438  0.102431  0.096211  0.093719  -0.009082314\n",
      "1030  1200.0  0.349387  0.361459  0.099244  0.096223  0.093687   0.005851341\n",
      "1031  1300.0  0.345725  0.364544  0.100106  0.095935  0.093691  -0.005243208\n",
      "\n",
      "[1032 rows x 7 columns]\n"
     ]
    }
   ],
   "source": [
    "print(df)"
   ]
  },
  {
   "cell_type": "code",
   "execution_count": 6,
   "id": "16c9fc13-dd11-473e-80ca-614d6fc535b1",
   "metadata": {},
   "outputs": [],
   "source": [
    "x=df.iloc[:,:-1].values\n",
    "y=df['Cr_ad'].values"
   ]
  },
  {
   "cell_type": "code",
   "execution_count": 7,
   "id": "71d7325f-8546-4fa1-8070-ddfdcff00a21",
   "metadata": {},
   "outputs": [
    {
     "data": {
      "text/plain": [
       "(array([[1.0000000e+03, 2.2470440e-01, 2.0857280e-01, 1.5456400e-01,\n",
       "         2.2979460e-01, 1.8236420e-01],\n",
       "        [1.1000000e+03, 2.1759100e-01, 2.0770980e-01, 1.6847460e-01,\n",
       "         2.2177380e-01, 1.8445100e-01],\n",
       "        [1.2000000e+03, 2.0824020e-01, 2.0863340e-01, 1.8145160e-01,\n",
       "         2.1417880e-01, 1.8749580e-01],\n",
       "        ...,\n",
       "        [1.1000000e+03, 3.4420080e-01, 3.6343760e-01, 1.0243148e-01,\n",
       "         9.6211060e-02, 9.3718960e-02],\n",
       "        [1.2000000e+03, 3.4938700e-01, 3.6145860e-01, 9.9244320e-02,\n",
       "         9.6222900e-02, 9.3687260e-02],\n",
       "        [1.3000000e+03, 3.4572500e-01, 3.6454360e-01, 1.0010554e-01,\n",
       "         9.5935200e-02, 9.3690940e-02]]),\n",
       " array(['0.186016', '0.118474', '0.07350504', ..., '-0.009082314',\n",
       "        '0.005851341', '-0.005243208'], dtype=object))"
      ]
     },
     "execution_count": 7,
     "metadata": {},
     "output_type": "execute_result"
    }
   ],
   "source": [
    "x,y"
   ]
  },
  {
   "cell_type": "code",
   "execution_count": 8,
   "id": "54f55cbe-9e0a-426a-b2d9-a50037f61f04",
   "metadata": {},
   "outputs": [],
   "source": [
    "y=y.astype('float')"
   ]
  },
  {
   "cell_type": "code",
   "execution_count": 9,
   "id": "0f2b4d50-45fa-48f9-ba91-4a16b68eff42",
   "metadata": {},
   "outputs": [
    {
     "data": {
      "text/plain": [
       "array([ 0.186016  ,  0.118474  ,  0.07350504, ..., -0.00908231,\n",
       "        0.00585134, -0.00524321])"
      ]
     },
     "execution_count": 9,
     "metadata": {},
     "output_type": "execute_result"
    }
   ],
   "source": [
    "y"
   ]
  },
  {
   "cell_type": "code",
   "execution_count": 10,
   "id": "67bd96ea-0003-4ff8-93c3-14bbb3ae1e4f",
   "metadata": {},
   "outputs": [],
   "source": [
    "from sklearn.preprocessing import StandardScaler"
   ]
  },
  {
   "cell_type": "code",
   "execution_count": 11,
   "id": "863399ee-f6bf-4c31-8faa-8740a17cd196",
   "metadata": {},
   "outputs": [],
   "source": [
    "ss_x=StandardScaler()"
   ]
  },
  {
   "cell_type": "code",
   "execution_count": 12,
   "id": "da72e3db-4bc8-4a0f-afd9-c598b1326c4a",
   "metadata": {},
   "outputs": [],
   "source": [
    "x=ss_x.fit_transform(x)"
   ]
  },
  {
   "cell_type": "code",
   "execution_count": 13,
   "id": "8aee3bdb-5dc0-4464-b4e4-68182f34236e",
   "metadata": {},
   "outputs": [],
   "source": [
    "ss_y=StandardScaler()"
   ]
  },
  {
   "cell_type": "code",
   "execution_count": 14,
   "id": "cd71a817-a28d-460d-80d8-421ab7675196",
   "metadata": {},
   "outputs": [],
   "source": [
    "y=ss_y.fit_transform(y.reshape(-1,1)).reshape(-1)"
   ]
  },
  {
   "cell_type": "code",
   "execution_count": 15,
   "id": "4959c15b-ce07-41e6-b0a2-468467d5bf8b",
   "metadata": {},
   "outputs": [
    {
     "data": {
      "text/plain": [
       "array([ 0.54995222, -0.00713829, -0.37804499, ..., -1.05923049,\n",
       "       -0.9360568 , -1.02756531])"
      ]
     },
     "execution_count": 15,
     "metadata": {},
     "output_type": "execute_result"
    }
   ],
   "source": [
    "y"
   ]
  },
  {
   "cell_type": "code",
   "execution_count": null,
   "id": "87feb24c-0245-44e9-b056-c9fa686a2b53",
   "metadata": {},
   "outputs": [],
   "source": []
  },
  {
   "cell_type": "code",
   "execution_count": 16,
   "id": "3275bed9-f2b2-438e-9985-fc99e2fa1115",
   "metadata": {},
   "outputs": [],
   "source": [
    "from sklearn.model_selection import train_test_split"
   ]
  },
  {
   "cell_type": "code",
   "execution_count": 17,
   "id": "fe360f57-16ea-4943-8481-72331fe2c84a",
   "metadata": {},
   "outputs": [],
   "source": [
    "x_train,x_test,y_train,y_test=train_test_split(x,y,test_size=0.15)"
   ]
  },
  {
   "cell_type": "code",
   "execution_count": 18,
   "id": "b417edab-a8c4-474c-9c87-11a3dc8bf7dc",
   "metadata": {},
   "outputs": [],
   "source": [
    "x_train,x_val,y_train,y_val=train_test_split(x_train,y_train,test_size=0.1765)"
   ]
  },
  {
   "cell_type": "code",
   "execution_count": null,
   "id": "5a45c066-a2eb-4c8b-96c8-a305ba945b51",
   "metadata": {},
   "outputs": [],
   "source": []
  },
  {
   "cell_type": "code",
   "execution_count": 19,
   "id": "03fd8f44-0330-488d-9a63-a40a4783b8c5",
   "metadata": {},
   "outputs": [],
   "source": [
    "from tensorflow import keras"
   ]
  },
  {
   "cell_type": "code",
   "execution_count": 20,
   "id": "a9d95bc9-92a4-4629-ae25-2b6ccc3cb014",
   "metadata": {},
   "outputs": [],
   "source": [
    "model_seq=keras.Sequential([\n",
    "   keras.layers.Input(shape=(6,)),\n",
    "    keras.layers.Dense(64,activation='relu'),\n",
    "    keras.layers.Dense(1)\n",
    "])"
   ]
  },
  {
   "cell_type": "code",
   "execution_count": 21,
   "id": "f214fd10-f3f9-4e91-8961-401122201759",
   "metadata": {},
   "outputs": [],
   "source": [
    "from tensorflow.keras.models import Model\n",
    "from tensorflow.keras.layers import Dense,Input"
   ]
  },
  {
   "cell_type": "code",
   "execution_count": 22,
   "id": "95e41d88-51f0-4f1c-8ea6-a5fc62dfb90f",
   "metadata": {},
   "outputs": [],
   "source": [
    "inputs=Input(shape=(6,))\n",
    "hidden=Dense(20,activation='relu')(inputs)\n",
    "outputs=Dense(1)(hidden)"
   ]
  },
  {
   "cell_type": "code",
   "execution_count": 23,
   "id": "36b992c2-18fa-470f-ae57-0f86a2dbc744",
   "metadata": {},
   "outputs": [],
   "source": [
    "model_fuc=Model(inputs=inputs,outputs=outputs)"
   ]
  },
  {
   "cell_type": "code",
   "execution_count": 24,
   "id": "d5ef9d4a-8ff3-4e65-8f7d-05cb668cd8a2",
   "metadata": {},
   "outputs": [
    {
     "name": "stdout",
     "output_type": "stream",
     "text": [
      "Model: \"model\"\n",
      "_________________________________________________________________\n",
      " Layer (type)                Output Shape              Param #   \n",
      "=================================================================\n",
      " input_2 (InputLayer)        [(None, 6)]               0         \n",
      "                                                                 \n",
      " dense_2 (Dense)             (None, 20)                140       \n",
      "                                                                 \n",
      " dense_3 (Dense)             (None, 1)                 21        \n",
      "                                                                 \n",
      "=================================================================\n",
      "Total params: 161\n",
      "Trainable params: 161\n",
      "Non-trainable params: 0\n",
      "_________________________________________________________________\n"
     ]
    }
   ],
   "source": [
    "model_fuc.summary()"
   ]
  },
  {
   "cell_type": "code",
   "execution_count": 25,
   "id": "2f333ccc-65ea-40fc-8f96-0ad8557b32d3",
   "metadata": {},
   "outputs": [],
   "source": [
    "adam=keras.optimizers.Adam(learning_rate=0.001)\n",
    "model_fuc.compile(optimizer=adam,loss='mse',metrics=['mse']) "
   ]
  },
  {
   "cell_type": "code",
   "execution_count": 26,
   "id": "ca4676d5-24d3-4cad-94a7-06dd47ec0e52",
   "metadata": {},
   "outputs": [],
   "source": [
    "history=keras.callbacks.History()"
   ]
  },
  {
   "cell_type": "code",
   "execution_count": null,
   "id": "ad280ccc-704b-44fc-8474-dc8453dfd588",
   "metadata": {},
   "outputs": [],
   "source": []
  },
  {
   "cell_type": "code",
   "execution_count": 27,
   "id": "171706f0-e050-4f9d-879d-06e7cab72620",
   "metadata": {},
   "outputs": [
    {
     "name": "stdout",
     "output_type": "stream",
     "text": [
      "Epoch 1/50\n",
      "23/23 [==============================] - 3s 17ms/step - loss: 1.4206 - mse: 1.4206 - val_loss: 1.8301 - val_mse: 1.8301\n",
      "Epoch 2/50\n",
      "23/23 [==============================] - 0s 6ms/step - loss: 1.1145 - mse: 1.1145 - val_loss: 1.4863 - val_mse: 1.4863\n",
      "Epoch 3/50\n",
      "23/23 [==============================] - 0s 8ms/step - loss: 0.8943 - mse: 0.8943 - val_loss: 1.2079 - val_mse: 1.2079\n",
      "Epoch 4/50\n",
      "23/23 [==============================] - 0s 7ms/step - loss: 0.7268 - mse: 0.7268 - val_loss: 1.0018 - val_mse: 1.0018\n",
      "Epoch 5/50\n",
      "23/23 [==============================] - 0s 8ms/step - loss: 0.6013 - mse: 0.6013 - val_loss: 0.8199 - val_mse: 0.8199\n",
      "Epoch 6/50\n",
      "23/23 [==============================] - 0s 7ms/step - loss: 0.4968 - mse: 0.4968 - val_loss: 0.6970 - val_mse: 0.6970\n",
      "Epoch 7/50\n",
      "23/23 [==============================] - 0s 7ms/step - loss: 0.4158 - mse: 0.4158 - val_loss: 0.5950 - val_mse: 0.5950\n",
      "Epoch 8/50\n",
      "23/23 [==============================] - 0s 7ms/step - loss: 0.3528 - mse: 0.3528 - val_loss: 0.5069 - val_mse: 0.5069\n",
      "Epoch 9/50\n",
      "23/23 [==============================] - 0s 7ms/step - loss: 0.3086 - mse: 0.3086 - val_loss: 0.4355 - val_mse: 0.4355\n",
      "Epoch 10/50\n",
      "23/23 [==============================] - 0s 7ms/step - loss: 0.2712 - mse: 0.2712 - val_loss: 0.3948 - val_mse: 0.3948\n",
      "Epoch 11/50\n",
      "23/23 [==============================] - 0s 6ms/step - loss: 0.2461 - mse: 0.2461 - val_loss: 0.3535 - val_mse: 0.3535\n",
      "Epoch 12/50\n",
      "23/23 [==============================] - 0s 7ms/step - loss: 0.2246 - mse: 0.2246 - val_loss: 0.3250 - val_mse: 0.3250\n",
      "Epoch 13/50\n",
      "23/23 [==============================] - 0s 8ms/step - loss: 0.2084 - mse: 0.2084 - val_loss: 0.2985 - val_mse: 0.2985\n",
      "Epoch 14/50\n",
      "23/23 [==============================] - 0s 7ms/step - loss: 0.1943 - mse: 0.1943 - val_loss: 0.2774 - val_mse: 0.2774\n",
      "Epoch 15/50\n",
      "23/23 [==============================] - 0s 7ms/step - loss: 0.1824 - mse: 0.1824 - val_loss: 0.2618 - val_mse: 0.2618\n",
      "Epoch 16/50\n",
      "23/23 [==============================] - 0s 7ms/step - loss: 0.1712 - mse: 0.1712 - val_loss: 0.2435 - val_mse: 0.2435\n",
      "Epoch 17/50\n",
      "23/23 [==============================] - 0s 7ms/step - loss: 0.1617 - mse: 0.1617 - val_loss: 0.2310 - val_mse: 0.2310\n",
      "Epoch 18/50\n",
      "23/23 [==============================] - 0s 7ms/step - loss: 0.1532 - mse: 0.1532 - val_loss: 0.2192 - val_mse: 0.2192\n",
      "Epoch 19/50\n",
      "23/23 [==============================] - 0s 7ms/step - loss: 0.1457 - mse: 0.1457 - val_loss: 0.2098 - val_mse: 0.2098\n",
      "Epoch 20/50\n",
      "23/23 [==============================] - 0s 8ms/step - loss: 0.1397 - mse: 0.1397 - val_loss: 0.2013 - val_mse: 0.2013\n",
      "Epoch 21/50\n",
      "23/23 [==============================] - 0s 5ms/step - loss: 0.1338 - mse: 0.1338 - val_loss: 0.1909 - val_mse: 0.1909\n",
      "Epoch 22/50\n",
      "23/23 [==============================] - 0s 7ms/step - loss: 0.1292 - mse: 0.1292 - val_loss: 0.1814 - val_mse: 0.1814\n",
      "Epoch 23/50\n",
      "23/23 [==============================] - 0s 7ms/step - loss: 0.1250 - mse: 0.1250 - val_loss: 0.1802 - val_mse: 0.1802\n",
      "Epoch 24/50\n",
      "23/23 [==============================] - 0s 7ms/step - loss: 0.1214 - mse: 0.1214 - val_loss: 0.1747 - val_mse: 0.1747\n",
      "Epoch 25/50\n",
      "23/23 [==============================] - 0s 8ms/step - loss: 0.1182 - mse: 0.1182 - val_loss: 0.1710 - val_mse: 0.1710\n",
      "Epoch 26/50\n",
      "23/23 [==============================] - 0s 7ms/step - loss: 0.1161 - mse: 0.1161 - val_loss: 0.1670 - val_mse: 0.1670\n",
      "Epoch 27/50\n",
      "23/23 [==============================] - 0s 7ms/step - loss: 0.1144 - mse: 0.1144 - val_loss: 0.1655 - val_mse: 0.1655\n",
      "Epoch 28/50\n",
      "23/23 [==============================] - 0s 6ms/step - loss: 0.1117 - mse: 0.1117 - val_loss: 0.1639 - val_mse: 0.1639\n",
      "Epoch 29/50\n",
      "23/23 [==============================] - 0s 7ms/step - loss: 0.1102 - mse: 0.1102 - val_loss: 0.1581 - val_mse: 0.1581\n",
      "Epoch 30/50\n",
      "23/23 [==============================] - 0s 7ms/step - loss: 0.1092 - mse: 0.1092 - val_loss: 0.1579 - val_mse: 0.1579\n",
      "Epoch 31/50\n",
      "23/23 [==============================] - 0s 8ms/step - loss: 0.1071 - mse: 0.1071 - val_loss: 0.1535 - val_mse: 0.1535\n",
      "Epoch 32/50\n",
      "23/23 [==============================] - 0s 5ms/step - loss: 0.1067 - mse: 0.1067 - val_loss: 0.1521 - val_mse: 0.1521\n",
      "Epoch 33/50\n",
      "23/23 [==============================] - 0s 8ms/step - loss: 0.1055 - mse: 0.1055 - val_loss: 0.1511 - val_mse: 0.1511\n",
      "Epoch 34/50\n",
      "23/23 [==============================] - 0s 7ms/step - loss: 0.1043 - mse: 0.1043 - val_loss: 0.1505 - val_mse: 0.1505\n",
      "Epoch 35/50\n",
      "23/23 [==============================] - 0s 7ms/step - loss: 0.1039 - mse: 0.1039 - val_loss: 0.1509 - val_mse: 0.1509\n",
      "Epoch 36/50\n",
      "23/23 [==============================] - 0s 7ms/step - loss: 0.1024 - mse: 0.1024 - val_loss: 0.1465 - val_mse: 0.1465\n",
      "Epoch 37/50\n",
      "23/23 [==============================] - 0s 7ms/step - loss: 0.1019 - mse: 0.1019 - val_loss: 0.1449 - val_mse: 0.1449\n",
      "Epoch 38/50\n",
      "23/23 [==============================] - 0s 8ms/step - loss: 0.1006 - mse: 0.1006 - val_loss: 0.1455 - val_mse: 0.1455\n",
      "Epoch 39/50\n",
      "23/23 [==============================] - 0s 7ms/step - loss: 0.1000 - mse: 0.1000 - val_loss: 0.1419 - val_mse: 0.1419\n",
      "Epoch 40/50\n",
      "23/23 [==============================] - 0s 7ms/step - loss: 0.0993 - mse: 0.0993 - val_loss: 0.1430 - val_mse: 0.1430\n",
      "Epoch 41/50\n",
      "23/23 [==============================] - 0s 7ms/step - loss: 0.0988 - mse: 0.0988 - val_loss: 0.1444 - val_mse: 0.1444\n",
      "Epoch 42/50\n",
      "23/23 [==============================] - 0s 8ms/step - loss: 0.0986 - mse: 0.0986 - val_loss: 0.1412 - val_mse: 0.1412\n",
      "Epoch 43/50\n",
      "23/23 [==============================] - 0s 8ms/step - loss: 0.0979 - mse: 0.0979 - val_loss: 0.1378 - val_mse: 0.1378\n",
      "Epoch 44/50\n",
      "23/23 [==============================] - 0s 8ms/step - loss: 0.0970 - mse: 0.0970 - val_loss: 0.1398 - val_mse: 0.1398\n",
      "Epoch 45/50\n",
      "23/23 [==============================] - 0s 8ms/step - loss: 0.0971 - mse: 0.0971 - val_loss: 0.1355 - val_mse: 0.1355\n",
      "Epoch 46/50\n",
      "23/23 [==============================] - 0s 8ms/step - loss: 0.0956 - mse: 0.0956 - val_loss: 0.1398 - val_mse: 0.1398\n",
      "Epoch 47/50\n",
      "23/23 [==============================] - 0s 8ms/step - loss: 0.0952 - mse: 0.0952 - val_loss: 0.1382 - val_mse: 0.1382\n",
      "Epoch 48/50\n",
      "23/23 [==============================] - 0s 6ms/step - loss: 0.0948 - mse: 0.0948 - val_loss: 0.1367 - val_mse: 0.1367\n",
      "Epoch 49/50\n",
      "23/23 [==============================] - 0s 7ms/step - loss: 0.0941 - mse: 0.0941 - val_loss: 0.1340 - val_mse: 0.1340\n",
      "Epoch 50/50\n",
      "23/23 [==============================] - 0s 7ms/step - loss: 0.0935 - mse: 0.0935 - val_loss: 0.1319 - val_mse: 0.1319\n"
     ]
    },
    {
     "data": {
      "text/plain": [
       "<keras.callbacks.History at 0x2ba480dda60>"
      ]
     },
     "execution_count": 27,
     "metadata": {},
     "output_type": "execute_result"
    }
   ],
   "source": [
    "model_fuc.fit(x_train,y_train,validation_data=(x_val,y_val),epochs=50,\n",
    "             callbacks=[history])"
   ]
  },
  {
   "cell_type": "code",
   "execution_count": 28,
   "id": "a388f732-d2fa-4d28-b5a6-d240fb901f03",
   "metadata": {},
   "outputs": [],
   "source": [
    "def model_predict(model,x,y,ss_y):\n",
    "    resoults=model.predict(x)\n",
    "    y_pre=ss_y.inverse_transform(resoults).reshape(-1,)\n",
    "    y_real=ss_y.inverse_transform(y.reshape(-1,1)).reshape(-1,)\n",
    "\n",
    "    return y_real,y_pre"
   ]
  },
  {
   "cell_type": "code",
   "execution_count": 29,
   "id": "9aadd95a-8968-4773-91d0-756df7d34bac",
   "metadata": {},
   "outputs": [
    {
     "name": "stdout",
     "output_type": "stream",
     "text": [
      "23/23 [==============================] - 0s 2ms/step\n",
      "5/5 [==============================] - 0s 3ms/step\n",
      "5/5 [==============================] - 0s 2ms/step\n"
     ]
    }
   ],
   "source": [
    "y_real_train,y_pre_train=model_predict(model_fuc,x_train,y_train,ss_y)\n",
    "y_real_val,y_pre_val=model_predict(model_fuc,x_val,y_val,ss_y)\n",
    "y_real_test,y_pre_test=model_predict(model_fuc,x_test,y_test,ss_y)"
   ]
  },
  {
   "cell_type": "code",
   "execution_count": 30,
   "id": "1baa2958-ea68-4aaf-8bbb-3e9ff5bf5a00",
   "metadata": {},
   "outputs": [],
   "source": [
    "from sklearn.metrics import mean_squared_error as mse\n"
   ]
  },
  {
   "cell_type": "code",
   "execution_count": 31,
   "id": "6a839f9c-ea06-4f84-851b-0b75069c7be4",
   "metadata": {},
   "outputs": [],
   "source": [
    "error_val=np.sqrt(mse(y_real_val*100,y_pre_val*100))\n",
    "error_test=np.sqrt(mse(y_real_test*100,y_pre_test*100))\n",
    "error_train=np.sqrt(mse(y_real_train*100,y_pre_train*100))\n"
   ]
  },
  {
   "cell_type": "code",
   "execution_count": 32,
   "id": "2e07d531-1834-475c-9118-462794e08035",
   "metadata": {},
   "outputs": [
    {
     "name": "stdout",
     "output_type": "stream",
     "text": [
      "validation rmse: 4.403\n",
      "test rmse: 4.643\n",
      "train rmse: 3.687\n"
     ]
    }
   ],
   "source": [
    "print('validation rmse: %.3f' % error_val)\n",
    "print('test rmse: %.3f' % error_test)\n",
    "print('train rmse: %.3f' % error_train)"
   ]
  },
  {
   "cell_type": "code",
   "execution_count": 33,
   "id": "4e563aeb-c5c3-46a8-8dd9-72e1b292b7c6",
   "metadata": {},
   "outputs": [],
   "source": [
    "import matplotlib.pyplot as plt"
   ]
  },
  {
   "cell_type": "code",
   "execution_count": 36,
   "id": "8445556f-ef1d-4a2e-96d8-0dbb6d4fcb8c",
   "metadata": {},
   "outputs": [
    {
     "data": {
      "image/png": "[encoded data removed]",
      "text/plain": [
       "<Figure size 400x400 with 1 Axes>"
      ]
     },
     "metadata": {},
     "output_type": "display_data"
    }
   ],
   "source": [
    "plt.figure(figsize=(4,4))\n",
    "plt.scatter(y_real_train*100,y_pre_train*100,s=100,c='gold',label='train')\n",
    "plt.scatter(y_real_test*100,y_pre_test*100,s=100,c='b',label='test')\n",
    "plt.scatter(y_real_val*100,y_pre_val*100,s=100,c='purple',label='validation')\n",
    "plt.plot([0,65],[0,65],linestyle='--',linewidth=3)\n",
    "plt.legend()\n",
    "plt.xlim(0,65)\n",
    "plt.ylim(0,65)\n",
    "plt.xlabel('MC/MD')\n",
    "plt.ylabel('ANN')\n",
    "plt.show()"
   ]
  },
  {
   "cell_type": "code",
   "execution_count": 39,
   "id": "118f15cc-ee8c-48f1-918b-c513312e7886",
   "metadata": {},
   "outputs": [],
   "source": [
    "x_pre=[]\n",
    "\n",
    "for t in np.arange(1000,1310,10):\n",
    "    for i in np.arange(0.0,0.42,0.02):\n",
    "        j=0.4-i\n",
    "        xx=[]\n",
    "        xx.append(t)\n",
    "        xx.append(0.2)\n",
    "        xx.append(0.2)\n",
    "        xx.append(j)\n",
    "        xx.append(0.2)\n",
    "        xx.append(i)\n",
    "        x_pre.append(xx)\n",
    "     \n",
    "\n",
    "\n",
    "x_pre=np.array(x_pre)"
   ]
  },
  {
   "cell_type": "code",
   "execution_count": 40,
   "id": "6384ca8a-e1e4-4eb7-83ff-e87892c5eb75",
   "metadata": {},
   "outputs": [],
   "source": [
    "x_pre_s=ss_x.transform(x_pre)"
   ]
  },
  {
   "cell_type": "code",
   "execution_count": 53,
   "id": "133c8cd6-a27b-4891-ae56-090104b19f35",
   "metadata": {},
   "outputs": [
    {
     "name": "stdout",
     "output_type": "stream",
     "text": [
      "21/21 [==============================] - 0s 2ms/step\n"
     ]
    }
   ],
   "source": [
    "y_pre=model_fuc.predict(x_pre_s)"
   ]
  },
  {
   "cell_type": "code",
   "execution_count": 54,
   "id": "9604f3ad-86ea-4d68-9cf7-049978068ec1",
   "metadata": {},
   "outputs": [],
   "source": [
    "y_pre=ss_y.inverse_transform(y_pre)"
   ]
  },
  {
   "cell_type": "code",
   "execution_count": 55,
   "id": "06194af1-66a4-4668-84ff-80980a47f75e",
   "metadata": {},
   "outputs": [],
   "source": [
    "y_pre=y_pre.reshape(-1)"
   ]
  },
  {
   "cell_type": "code",
   "execution_count": 71,
   "id": "9e084ce2-d741-4722-9c57-33b25d914061",
   "metadata": {},
   "outputs": [],
   "source": [
    "x0, y0 = np.meshgrid(np.arange(0.00, 0.42, 0.02), np.arange(1000, 1310, 10))\n"
   ]
  },
  {
   "cell_type": "code",
   "execution_count": 85,
   "id": "3315d81e-756d-4f0a-a4f7-fe11486346a5",
   "metadata": {},
   "outputs": [
    {
     "data": {
      "image/png": "[encoded data removed]",
      "text/plain": [
       "<Figure size 600x500 with 2 Axes>"
      ]
     },
     "metadata": {},
     "output_type": "display_data"
    }
   ],
   "source": [
    "plt.figure(figsize=(6,5))\n",
    "levels=np.linspace(0,50,101)\n",
    "plt.contourf(x0, y0, y_pre.reshape(x0.shape)*100, cmap='bwr', levels = levels)\n",
    "plt.xticks (np.arange(0.05,0.36,0.1))\n",
    "plt.yticks(np.arange(1000,1301,100))\n",
    "plt.xlim(0.05,0.35)\n",
    "plt.ylim(1000,1300)\n",
    "cb=plt.colorbar()\n",
    "cb.set_ticks=([0,10,20,3,40,50])\n",
    "plt.show()"
   ]
  },
  {
   "cell_type": "code",
   "execution_count": 89,
   "id": "ed966a43-f327-48e4-920a-20e4e9f64fb5",
   "metadata": {},
   "outputs": [
    {
     "data": {
      "text/plain": [
       "dict_keys(['loss', 'mse', 'val_loss', 'val_mse'])"
      ]
     },
     "execution_count": 89,
     "metadata": {},
     "output_type": "execute_result"
    }
   ],
   "source": [
    "history.history.keys()"
   ]
  },
  {
   "cell_type": "code",
   "execution_count": 93,
   "id": "ae580ba0-8af5-4706-82eb-ea273dafc104",
   "metadata": {},
   "outputs": [
    {
     "data": {
      "text/plain": [
       "Text(0.5, 0, 'epochs')"
      ]
     },
     "execution_count": 93,
     "metadata": {},
     "output_type": "execute_result"
    },
    {
     "data": {
      "image/png": "[encoded data removed]",
      "text/plain": [
       "<Figure size 640x480 with 1 Axes>"
      ]
     },
     "metadata": {},
     "output_type": "display_data"
    }
   ],
   "source": [
    "plt.plot(history.history['loss'])\n",
    "plt.plot(history.history['val_loss'])\n",
    "plt.xlabel('epochs')"
   ]
  },
  {
   "cell_type": "code",
   "execution_count": null,
   "id": "8f6def74-f498-4ba3-b92a-08620745424b",
   "metadata": {},
   "outputs": [],
   "source": []
  }
 ],
 "metadata": {
  "kernelspec": {
   "display_name": "TensorFlow-2.10-GPU",
   "language": "python",
   "name": "tf"
  },
  "language_info": {
   "codemirror_mode": {
    "name": "ipython",
    "version": 3
   },
   "file_extension": ".py",
   "mimetype": "text/x-python",
   "name": "python",
   "nbconvert_exporter": "python",
   "pygments_lexer": "ipython3",
   "version": "3.9.21"
  }
 },
 "nbformat": 4,
 "nbformat_minor": 5
}
